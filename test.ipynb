{
 "metadata": {
  "language_info": {
   "codemirror_mode": {
    "name": "ipython",
    "version": 3
   },
   "file_extension": ".py",
   "mimetype": "text/x-python",
   "name": "python",
   "nbconvert_exporter": "python",
   "pygments_lexer": "ipython3",
   "version": "3.8.5-final"
  },
  "orig_nbformat": 2,
  "kernelspec": {
   "name": "python3",
   "display_name": "Python 3"
  }
 },
 "nbformat": 4,
 "nbformat_minor": 2,
 "cells": [
  {
   "cell_type": "code",
   "execution_count": null,
   "metadata": {},
   "outputs": [],
   "source": [
    "import importlib\n",
    "import folium\n",
    "from folium.plugins import TimestampedGeoJson\n",
    "import data_api as da\n",
    "importlib.reload(da)"
   ]
  },
  {
   "cell_type": "code",
   "execution_count": null,
   "metadata": {},
   "outputs": [],
   "source": [
    "# bus_ids = [51, 31, 4]\n",
    "bus_ids = [51, 50, 31, 32, 4, 38, 30, 26, 13, 49, 40, 6, 29, 20, 10, 41, 3, 58, 7]"
   ]
  },
  {
   "cell_type": "code",
   "execution_count": null,
   "metadata": {},
   "outputs": [],
   "source": [
    "routes_gj = da.get_routes_geojson(bus_ids)"
   ]
  },
  {
   "cell_type": "code",
   "execution_count": null,
   "metadata": {},
   "outputs": [],
   "source": [
    "grid_gj = da.get_grid_geojson(bus_ids, ('weekday', '00:00', '23:59'), stations_source='here')"
   ]
  },
  {
   "cell_type": "code",
   "execution_count": null,
   "metadata": {},
   "outputs": [],
   "source": [
    "m = folium.Map(location=[55.6795535, 12.542231], zoom_start=13, tiles='OpenStreetMap')\n",
    "routes = folium.GeoJson(routes_gj, name='routes', style_function=lambda feature: {\n",
    "    'color': 'blue'\n",
    "})\n",
    "\n",
    "grid = TimestampedGeoJson(\n",
    "    grid_gj, \n",
    "    period='PT1H',\n",
    "    duration='PT1M',\n",
    "    date_options='HH:mm',\n",
    "    auto_play=False,\n",
    "    max_speed=1,\n",
    "    loop=False,\n",
    "    time_slider_drag_update=True,\n",
    "    loop_button=True\n",
    ")\n",
    "\n",
    "routes.add_to(m)\n",
    "grid.add_to(m)\n",
    "\n",
    "folium.features.GeoJsonTooltip(fields=['bus_id', 'name'], aliases=['id', 'bus']).add_to(routes)\n",
    "folium.LayerControl().add_to(m)\n",
    "\n",
    "m"
   ]
  }
 ]
}