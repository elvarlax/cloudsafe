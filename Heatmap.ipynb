{
 "cells": [
  {
   "cell_type": "code",
   "execution_count": 1,
   "metadata": {},
   "outputs": [],
   "source": [
    "import folium\n",
    "import ipywidgets as widgets\n",
    "from ipywidgets import interact, interact_manual\n",
    "from data_api import *\n",
    "from utils.folium_utils import *"
   ]
  },
  {
   "cell_type": "code",
   "execution_count": 2,
   "metadata": {},
   "outputs": [],
   "source": [
    "bus_ids = [51, 50, 31, 32, 4, 38, 30, 26, 13, 49, 40, 6, 29, 20, 10, 41, 3, 58, 7]"
   ]
  },
  {
   "cell_type": "code",
   "execution_count": 3,
   "metadata": {},
   "outputs": [],
   "source": [
    "routes_gj = get_routes_geojson(bus_ids)\n",
    "time_range_lis = [\n",
    "    ('weekday', '08:00', '09:00'),\n",
    "    ('weekday', '09:00', '10:00'),\n",
    "    ('weekday', '10:00', '11:00'),\n",
    "    ('weekday', '11:00', '12:00'),\n",
    "    ('weekday', '12:00', '13:00')\n",
    "]"
   ]
  },
  {
   "cell_type": "code",
   "execution_count": 4,
   "metadata": {},
   "outputs": [
    {
     "data": {
      "application/vnd.jupyter.widget-view+json": {
       "model_id": "501db72095534df295d28eeaecaa94c2",
       "version_major": 2,
       "version_minor": 0
      },
      "text/plain": [
       "interactive(children=(IntSlider(value=0, description='time_range', max=4), Output()), _dom_classes=('widget-in…"
      ]
     },
     "metadata": {},
     "output_type": "display_data"
    }
   ],
   "source": [
    "def get_grid_geojson_redux(time_range):\n",
    "    time_range = time_range_lis[time_range]\n",
    "    grid = get_grid_geojson(bus_ids, time_range, stations_source='here')\n",
    "    return grid\n",
    "\n",
    "def get_map_from_grid(time_range):\n",
    "    grid_gj = get_grid_geojson_redux(time_range)\n",
    "    m = folium.Map(location=[55.6795535, 12.542231], zoom_start=13, tiles='OpenStreetMap')\n",
    "    routes = folium.GeoJson(routes_gj, name='routes', style_function=lambda feature: {'color': 'black'})\n",
    "    grid = folium.GeoJson(grid_gj, name='grid', style_function=lambda feature: {\n",
    "        'fillColor': feature['properties']['fillColor'],\n",
    "        'color': \"black\",\n",
    "        'weight': 2,\n",
    "        'dashArray': '5',\n",
    "        'fillOpacity': 1.0\n",
    "    })\n",
    "    grid.add_to(m)\n",
    "    routes.add_to(m)\n",
    "    folium.features.GeoJsonTooltip(fields=['buses_count_subset', 'buses_count_total'], \n",
    "                               aliases=['subset', 'total'], \n",
    "                                   sticky=False).add_to(grid)\n",
    "    folium.features.GeoJsonTooltip(fields=['bus_id', 'name'], \n",
    "                                aliases=['id', 'bus']).add_to(routes)\n",
    "    folium.LayerControl().add_to(m)\n",
    "    return m\n",
    "\n",
    "grid = interact(get_map_from_grid, time_range=widgets.IntSlider(min=0, max=4, step=1, value=0))"
   ]
  },
  {
   "cell_type": "code",
   "execution_count": null,
   "metadata": {},
   "outputs": [],
   "source": []
  }
 ],
 "metadata": {
  "kernelspec": {
   "display_name": "Python 3",
   "language": "python",
   "name": "python3"
  },
  "language_info": {
   "codemirror_mode": {
    "name": "ipython",
    "version": 3
   },
   "file_extension": ".py",
   "mimetype": "text/x-python",
   "name": "python",
   "nbconvert_exporter": "python",
   "pygments_lexer": "ipython3",
   "version": "3.8.3"
  }
 },
 "nbformat": 4,
 "nbformat_minor": 4
}
