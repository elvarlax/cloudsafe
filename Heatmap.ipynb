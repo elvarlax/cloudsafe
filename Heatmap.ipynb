{
 "cells": [
  {
   "cell_type": "code",
   "execution_count": 43,
   "metadata": {},
   "outputs": [],
   "source": [
    "from cloudsafe import *\n",
    "database = 'here-api/main.db'\n",
    "conn = create_connection(database)\n",
    "departures = select_all_departures(conn)\n",
    "stations = select_all_stations(conn)\n",
    "bus_stops = select_all_bus_stops()"
   ]
  },
  {
   "cell_type": "code",
   "execution_count": 47,
   "metadata": {
    "tags": []
   },
   "outputs": [],
   "source": [
    "import folium\n",
    "from folium.plugins import HeatMap\n",
    "coords = stations.iloc[0].coordinates_here.split(',')\n",
    "m = folium.Map([coords[0], coords[1]], zoom_start=10)\n",
    "\n",
    "def get_coords(row):\n",
    "    if row['coordinates_here']:\n",
    "        coords = row['coordinates_here'].split(',') \n",
    "        return coords[0], coords[1]\n",
    "    return 0, 0\n",
    "\n",
    "stations[['longitude', 'latitude']] = stations.apply(get_coords, axis=1, result_type=\"expand\")\n",
    "\n",
    "for index, row in stations.iterrows():\n",
    "    folium.CircleMarker([row['latitude'], row['longitude']],\n",
    "                        radius=15,\n",
    "                        popup=row['name_here'],\n",
    "                        fill_color=\"#3db7e4\", # divvy color\n",
    "                       ).add_to(m)\n",
    "\n"
   ]
  },
  {
   "cell_type": "code",
   "execution_count": 50,
   "metadata": {},
   "outputs": [
    {
     "output_type": "error",
     "ename": "AttributeError",
     "evalue": "module 'folium' has no attribute 'plugins'",
     "traceback": [
      "\u001b[0;31m---------------------------------------------------------------------------\u001b[0m",
      "\u001b[0;31mAttributeError\u001b[0m                            Traceback (most recent call last)",
      "\u001b[0;32m<ipython-input-50-32e1ad6b4402>\u001b[0m in \u001b[0;36m<module>\u001b[0;34m\u001b[0m\n\u001b[1;32m      3\u001b[0m \u001b[0;34m\u001b[0m\u001b[0m\n\u001b[1;32m      4\u001b[0m \u001b[0;31m# plot heatmap\u001b[0m\u001b[0;34m\u001b[0m\u001b[0;34m\u001b[0m\u001b[0;34m\u001b[0m\u001b[0m\n\u001b[0;32m----> 5\u001b[0;31m \u001b[0mm\u001b[0m\u001b[0;34m.\u001b[0m\u001b[0madd_children\u001b[0m\u001b[0;34m(\u001b[0m\u001b[0mfolium\u001b[0m\u001b[0;34m.\u001b[0m\u001b[0mplugins\u001b[0m\u001b[0;34m.\u001b[0m\u001b[0mHeatMap\u001b[0m\u001b[0;34m(\u001b[0m\u001b[0mstationArr\u001b[0m\u001b[0;34m,\u001b[0m \u001b[0mradius\u001b[0m\u001b[0;34m=\u001b[0m\u001b[0;36m15\u001b[0m\u001b[0;34m)\u001b[0m\u001b[0;34m)\u001b[0m\u001b[0;34m\u001b[0m\u001b[0;34m\u001b[0m\u001b[0m\n\u001b[0m\u001b[1;32m      6\u001b[0m \u001b[0mm\u001b[0m\u001b[0;34m\u001b[0m\u001b[0;34m\u001b[0m\u001b[0m\n",
      "\u001b[0;31mAttributeError\u001b[0m: module 'folium' has no attribute 'plugins'"
     ]
    }
   ],
   "source": [
    "# convert to (n, 2) nd-array format for heatmap\n",
    "stationArr = stations[['latitude', 'longitude']].to_numpy()\n",
    "\n",
    "# plot heatmap\n",
    "m.add_children(HeatMap(stationArr, radius=15))\n",
    "m"
   ]
  }
 ],
 "metadata": {
  "kernelspec": {
   "display_name": "Python 3",
   "language": "python",
   "name": "python3"
  },
  "language_info": {
   "codemirror_mode": {
    "name": "ipython",
    "version": 3
   },
   "file_extension": ".py",
   "mimetype": "text/x-python",
   "name": "python",
   "nbconvert_exporter": "python",
   "pygments_lexer": "ipython3",
   "version": "3.8.6-final"
  }
 },
 "nbformat": 4,
 "nbformat_minor": 4
}