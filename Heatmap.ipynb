{
 "cells": [
  {
   "cell_type": "code",
   "execution_count": 14,
   "metadata": {},
   "outputs": [],
   "source": [
    "from cloudsafe import *\n",
    "from utils.folium_utils import get_geojson_grid\n",
    "import numpy as np\n",
    "import matplotlib as mpl\n",
    "import matplotlib.pyplot as plt\n",
    "import folium\n",
    "from folium.plugins import HeatMap\n",
    "database = 'here-api/main.db'\n",
    "conn = create_connection(database)\n",
    "departures = select_all_departures(conn)\n",
    "stations = select_all_stations(conn)\n",
    "bus_stops = select_all_bus_stops()"
   ]
  },
  {
   "cell_type": "code",
   "execution_count": 20,
   "metadata": {
    "tags": []
   },
   "outputs": [],
   "source": [
    "coords = stations.iloc[0].coordinates_here.split(',')\n",
    "m = folium.Map([coords[0], coords[1]], zoom_start=10)\n",
    "\n",
    "def get_coords(row):\n",
    "    if row['coordinates_here']:\n",
    "        coords = row['coordinates_here'].split(',') \n",
    "        return coords[0], coords[1]\n",
    "    return None, None\n",
    "\n",
    "stations[['latitude', 'longitude']] = stations.apply(get_coords, axis=1, result_type=\"expand\")\n",
    "\n",
    "# for index, row in stations.iterrows():\n",
    "#     folium.CircleMarker([row['latitude'], row['longitude']],\n",
    "#                         radius=15,\n",
    "#                         popup=row['name_here'],\n",
    "#                         fill_color=\"#3db7e4\", # divvy color\n",
    "#                        ).add_to(m)\n",
    "\n"
   ]
  },
  {
   "cell_type": "code",
   "execution_count": 21,
   "metadata": {},
   "outputs": [],
   "source": [
    "# convert to (n, 2) nd-array format for heatmap\n",
    "stationArr = stations[['latitude', 'longitude']].to_numpy()\n",
    "# stationArr\n",
    "# plot heatmap\n",
    "# m.add_children(HeatMap(stationArr, radius=15))\n",
    "# m"
   ]
  },
  {
   "cell_type": "code",
   "execution_count": 48,
   "metadata": {
    "tags": []
   },
   "outputs": [
    {
     "output_type": "stream",
     "name": "stdout",
     "text": [
      "0\n0\n0\n0\n8\n0\n0\n12\n16\n11\n9\n14\n4\n21\n18\n27\n21\n19\n6\n12\n3\n23\n21\n7\n10\n15\n19\n21\n22\n4\n11\n5\n11\n16\n14\n2\n"
     ]
    }
   ],
   "source": [
    "#choropleth map\n",
    "frequencies = stations.name_overpass.value_counts()\n",
    "\n",
    "# final = pd.DataFrame(columns=['station_name', 'longitude', 'latitude', 'bus_count'])\n",
    "# stations\n",
    "rows = []\n",
    "for station in frequencies.keys():\n",
    "    first = stations.loc[stations['name_overpass'] == station].iloc[0]\n",
    "    rows.append({'station_name': station, 'longitude': first.longitude, 'latitude': first.latitude, 'bus_count': frequencies.get(station)})\n",
    "    \n",
    "final = pd.DataFrame(rows)\n",
    "final['longitude'] = final['longitude'].astype(float)\n",
    "final['latitude'] = final['latitude'].astype(float)\n",
    "# final\n",
    "\n",
    "# max_latitude = final.loc[final['latitude'].astype(float).idxmax()]\n",
    "# min_latitude = final.loc[final['latitude'].astype(float).idxmin()]\n",
    "\n",
    "# max_longitude = final.loc[final['longitude'].astype(float).idxmax()]\n",
    "# min_longitude = final.loc[final['longitude'].astype(float).idxmin()]\n",
    "\n",
    "top_right = [final['latitude'].max(), final['longitude'].max()]\n",
    "\n",
    "bottom_left = [final['latitude'].min(), final['longitude'].min()]\n",
    "\n",
    "grid = get_geojson_grid(top_right, bottom_left)\n",
    "\n",
    "counts = []\n",
    "\n",
    "for box in grid:\n",
    "    upper_right = box[\"properties\"][\"upper_right\"]\n",
    "    lower_left = box[\"properties\"][\"lower_left\"]\n",
    "\n",
    "    items = final.loc[(final['latitude'] <= upper_right[1]) & ( final['longitude'] <= upper_right[0]) & (final['longitude'] >= lower_left[0]) & (final['latitude'] >= lower_left[1]) ]\n",
    "    counts.append(len(items))\n",
    "    \n",
    "max_count = max(counts)\n",
    "\n",
    "\n",
    "for i, geo_json in enumerate(grid):\n",
    "\n",
    "    color = plt.cm.Reds(counts[i] / max_count)\n",
    "    color = mpl.colors.to_hex(color)\n",
    "\n",
    "    gj = folium.GeoJson(geo_json,\n",
    "                        style_function=lambda feature, color=color: {\n",
    "                                                                        'fillColor': color,\n",
    "                                                                        'color':\"black\",\n",
    "                                                                        'weight': 2,\n",
    "                                                                        'dashArray': '5, 5',\n",
    "                                                                        'fillOpacity': 0.55,\n",
    "                                                                    })\n",
    "\n",
    "    m.add_child(gj)\n",
    "m\n",
    "\n",
    "# top_left = final['latitude'].astype(float)\n",
    "# top_left.max()\n",
    "\n",
    "# get_geojson_grid()\n",
    "# for index, row in final.iterrows():\n",
    "#     folium.CircleMarker([row['latitude'], row['longitude']],\n",
    "#                         radius=15,\n",
    "#                         popup=row['station_name'],\n",
    "#                         fill_color=\"#3db7e4\", # divvy color\n",
    "#                        ).add_to(m)\n",
    "# m"
   ]
  }
 ],
 "metadata": {
  "kernelspec": {
   "display_name": "Python 3",
   "language": "python",
   "name": "python3"
  },
  "language_info": {
   "codemirror_mode": {
    "name": "ipython",
    "version": 3
   },
   "file_extension": ".py",
   "mimetype": "text/x-python",
   "name": "python",
   "nbconvert_exporter": "python",
   "pygments_lexer": "ipython3",
   "version": "3.8.6-final"
  }
 },
 "nbformat": 4,
 "nbformat_minor": 4
}