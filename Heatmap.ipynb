{
 "cells": [
  {
   "cell_type": "code",
   "execution_count": 1,
   "metadata": {},
   "outputs": [],
   "source": [
    "import folium\n",
    "import ipywidgets as widgets\n",
    "from ipywidgets import interact, interact_manual\n",
    "from data_api import *"
   ]
  },
  {
   "cell_type": "code",
   "execution_count": 2,
   "metadata": {},
   "outputs": [],
   "source": [
    "bus_ids = [51, 50, 31, 32, 4, 38, 30, 26, 13, 49, 40, 6, 29, 20, 10, 41, 3, 58, 7]"
   ]
  },
  {
   "cell_type": "code",
   "execution_count": 3,
   "metadata": {},
   "outputs": [],
   "source": [
    "routes_gj = get_routes_geojson(bus_ids)\n",
    "time_range = ('weekday', '05:00', '10:00')\n",
    "grid_gj = get_grid_geojson(bus_ids, time_range, stations_source='here')"
   ]
  },
  {
   "cell_type": "code",
   "execution_count": 4,
   "metadata": {},
   "outputs": [],
   "source": [
    "m = folium.Map(location=[55.6795535, 12.542231], zoom_start=13, tiles='OpenStreetMap')"
   ]
  },
  {
   "cell_type": "code",
   "execution_count": 5,
   "metadata": {},
   "outputs": [
    {
     "data": {
      "text/plain": [
       "<folium.features.GeoJson at 0x21c6c49a430>"
      ]
     },
     "execution_count": 5,
     "metadata": {},
     "output_type": "execute_result"
    }
   ],
   "source": [
    "routes = folium.GeoJson(routes_gj, name='routes', style_function=lambda feature: {'color': 'black'})\n",
    "grid = folium.GeoJson(grid_gj, name='grid', style_function=lambda feature: {\n",
    "    'fillColor': feature['properties']['fillColor'],\n",
    "    'color':\"black\",\n",
    "    'weight': 2,\n",
    "    'dashArray': '5, 5',\n",
    "    'fillOpacity': 0.55,\n",
    "})\n",
    "grid.add_to(m)\n",
    "routes.add_to(m)"
   ]
  },
  {
   "cell_type": "code",
   "execution_count": 6,
   "metadata": {},
   "outputs": [
    {
     "data": {
      "text/plain": [
       "<folium.map.LayerControl at 0x21c6c49a5e0>"
      ]
     },
     "execution_count": 6,
     "metadata": {},
     "output_type": "execute_result"
    }
   ],
   "source": [
    "folium.features.GeoJsonTooltip(fields=['buses_count_subset', 'buses_count_total'], \n",
    "                               aliases=['subset', 'total'], sticky=False).add_to(grid)\n",
    "folium.features.GeoJsonTooltip(fields=['bus_id', 'name'], \n",
    "                               aliases=['id', 'bus']).add_to(routes)\n",
    "folium.LayerControl().add_to(m)"
   ]
  },
  {
   "cell_type": "code",
   "execution_count": 7,
   "metadata": {},
   "outputs": [
    {
     "data": {
      "application/vnd.jupyter.widget-view+json": {
       "model_id": "745e25d3b894465c885dd11efff2b5a5",
       "version_major": 2,
       "version_minor": 0
      },
      "text/plain": [
       "interactive(children=(Dropdown(description='bus_ids', options=(51, 50, 31, 32, 4, 38, 30, 26, 13, 49, 40, 6, 2…"
      ]
     },
     "metadata": {},
     "output_type": "display_data"
    }
   ],
   "source": [
    "m = interact(get_grid_geojson, bus_ids=bus_ids, time_range=widgets.IntSlider(min=0, max=23, step=1, value=0))"
   ]
  },
  {
   "cell_type": "code",
   "execution_count": 8,
   "metadata": {},
   "outputs": [
    {
     "data": {
      "text/plain": [
       "<function data_api.get_grid_geojson(bus_ids, time_range, flip_coordinates=True, stations_source='overpass')>"
      ]
     },
     "execution_count": 8,
     "metadata": {},
     "output_type": "execute_result"
    }
   ],
   "source": [
    "m"
   ]
  }
 ],
 "metadata": {
  "kernelspec": {
   "display_name": "Python 3",
   "language": "python",
   "name": "python3"
  },
  "language_info": {
   "codemirror_mode": {
    "name": "ipython",
    "version": 3
   },
   "file_extension": ".py",
   "mimetype": "text/x-python",
   "name": "python",
   "nbconvert_exporter": "python",
   "pygments_lexer": "ipython3",
   "version": "3.8.3"
  }
 },
 "nbformat": 4,
 "nbformat_minor": 4
}
