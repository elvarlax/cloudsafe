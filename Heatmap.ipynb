{
 "cells": [
  {
   "cell_type": "code",
   "execution_count": 16,
   "metadata": {},
   "outputs": [],
   "source": [
    "import folium\n",
    "import ipywidgets as widgets\n",
    "from ipywidgets import interact, interact_manual\n",
    "from data_api import *\n",
    "from utils.folium_utils import *"
   ]
  },
  {
   "cell_type": "code",
   "execution_count": 17,
   "metadata": {},
   "outputs": [],
   "source": [
    "bus_ids = [51, 50, 31, 32, 4, 38, 30, 26, 13, 49, 40, 6, 29, 20, 10, 41, 3, 58, 7]"
   ]
  },
  {
   "cell_type": "code",
   "execution_count": 18,
   "metadata": {},
   "outputs": [],
   "source": [
    "routes_gj = get_routes_geojson(bus_ids)\n",
    "time_range_lis = [\n",
    "    ('weekday', '08:00', '09:00'),\n",
    "    ('weekday', '09:00', '10:00'),\n",
    "    ('weekday', '10:00', '11:00')\n",
    "]\n",
    "# grid_gj = get_grid_geojson(bus_ids, time_range, stations_source='here')"
   ]
  },
  {
   "cell_type": "code",
   "execution_count": 8,
   "metadata": {},
   "outputs": [],
   "source": [
    "m = folium.Map(location=[55.6795535, 12.542231], zoom_start=13, tiles='OpenStreetMap')"
   ]
  },
  {
   "cell_type": "code",
   "execution_count": 9,
   "metadata": {},
   "outputs": [
    {
     "output_type": "error",
     "ename": "NameError",
     "evalue": "name 'grid_gj' is not defined",
     "traceback": [
      "\u001b[0;31m---------------------------------------------------------------------------\u001b[0m",
      "\u001b[0;31mNameError\u001b[0m                                 Traceback (most recent call last)",
      "\u001b[0;32m<ipython-input-9-3bebe5b79281>\u001b[0m in \u001b[0;36m<module>\u001b[0;34m\u001b[0m\n\u001b[1;32m      1\u001b[0m \u001b[0mroutes\u001b[0m \u001b[0;34m=\u001b[0m \u001b[0mfolium\u001b[0m\u001b[0;34m.\u001b[0m\u001b[0mGeoJson\u001b[0m\u001b[0;34m(\u001b[0m\u001b[0mroutes_gj\u001b[0m\u001b[0;34m,\u001b[0m \u001b[0mname\u001b[0m\u001b[0;34m=\u001b[0m\u001b[0;34m'routes'\u001b[0m\u001b[0;34m,\u001b[0m \u001b[0mstyle_function\u001b[0m\u001b[0;34m=\u001b[0m\u001b[0;32mlambda\u001b[0m \u001b[0mfeature\u001b[0m\u001b[0;34m:\u001b[0m \u001b[0;34m{\u001b[0m\u001b[0;34m'color'\u001b[0m\u001b[0;34m:\u001b[0m \u001b[0;34m'black'\u001b[0m\u001b[0;34m}\u001b[0m\u001b[0;34m)\u001b[0m\u001b[0;34m\u001b[0m\u001b[0;34m\u001b[0m\u001b[0m\n\u001b[0;32m----> 2\u001b[0;31m grid = folium.GeoJson(grid_gj, name='grid', style_function=lambda feature: {\n\u001b[0m\u001b[1;32m      3\u001b[0m     \u001b[0;34m'fillColor'\u001b[0m\u001b[0;34m:\u001b[0m \u001b[0mfeature\u001b[0m\u001b[0;34m[\u001b[0m\u001b[0;34m'properties'\u001b[0m\u001b[0;34m]\u001b[0m\u001b[0;34m[\u001b[0m\u001b[0;34m'fillColor'\u001b[0m\u001b[0;34m]\u001b[0m\u001b[0;34m,\u001b[0m\u001b[0;34m\u001b[0m\u001b[0;34m\u001b[0m\u001b[0m\n\u001b[1;32m      4\u001b[0m     \u001b[0;34m'color'\u001b[0m\u001b[0;34m:\u001b[0m\u001b[0;34m\"black\"\u001b[0m\u001b[0;34m,\u001b[0m\u001b[0;34m\u001b[0m\u001b[0;34m\u001b[0m\u001b[0m\n\u001b[1;32m      5\u001b[0m     \u001b[0;34m'weight'\u001b[0m\u001b[0;34m:\u001b[0m \u001b[0;36m2\u001b[0m\u001b[0;34m,\u001b[0m\u001b[0;34m\u001b[0m\u001b[0;34m\u001b[0m\u001b[0m\n",
      "\u001b[0;31mNameError\u001b[0m: name 'grid_gj' is not defined"
     ]
    }
   ],
   "source": [
    "routes = folium.GeoJson(routes_gj, name='routes', style_function=lambda feature: {'color': 'black'})\n",
    "grid = folium.GeoJson(grid_gj, name='grid', style_function=lambda feature: {\n",
    "    'fillColor': feature['properties']['fillColor'],\n",
    "    'color':\"black\",\n",
    "    'weight': 2,\n",
    "    'dashArray': '5, 5',\n",
    "    'fillOpacity': 0.55,\n",
    "})\n",
    "grid.add_to(m)\n",
    "routes.add_to(m)"
   ]
  },
  {
   "cell_type": "code",
   "execution_count": 23,
   "metadata": {},
   "outputs": [
    {
     "output_type": "execute_result",
     "data": {
      "text/plain": [
       "<folium.map.LayerControl at 0x7f63377a6490>"
      ]
     },
     "metadata": {},
     "execution_count": 23
    }
   ],
   "source": [
    "folium.features.GeoJsonTooltip(fields=['buses_count_subset', 'buses_count_total'], \n",
    "                               aliases=['subset', 'total'], sticky=False).add_to(grid)\n",
    "folium.features.GeoJsonTooltip(fields=['bus_id', 'name'], \n",
    "                               aliases=['id', 'bus']).add_to(routes)\n",
    "folium.LayerControl().add_to(m)"
   ]
  },
  {
   "cell_type": "code",
   "execution_count": 19,
   "metadata": {},
   "outputs": [
    {
     "output_type": "display_data",
     "data": {
      "text/plain": "interactive(children=(IntSlider(value=0, description='time_range', max=2), Output()), _dom_classes=('widget-in…",
      "application/vnd.jupyter.widget-view+json": {
       "version_major": 2,
       "version_minor": 0,
       "model_id": "a040acf6d92346e9999dacc84d5f30c5"
      }
     },
     "metadata": {}
    }
   ],
   "source": [
    "def get_grid_geojson_redux(time_range):\n",
    "    time_range = time_range_lis[time_range]\n",
    "    grid = get_grid_geojson(bus_ids, time_range, stations_source='here')\n",
    "    return grid\n",
    "\n",
    "def get_map_from_grid(time_range):\n",
    "    grid_gj = get_grid_geojson_redux(time_range)\n",
    "    m = folium.Map(location=[55.6795535, 12.542231], zoom_start=13, tiles='OpenStreetMap')\n",
    "    routes = folium.GeoJson(routes_gj, name='routes', style_function=lambda feature: {'color': 'black'})\n",
    "    grid = folium.GeoJson(grid_gj, name='grid', style_function=lambda feature: {\n",
    "        'fillColor': feature['properties']['fillColor'],\n",
    "        'color':\"black\",\n",
    "        'weight': 2,\n",
    "        'dashArray': '5, 5',\n",
    "        'fillOpacity': 0.55,\n",
    "    })\n",
    "    grid.add_to(m)\n",
    "    routes.add_to(m)\n",
    "    folium.features.GeoJsonTooltip(fields=['buses_count_subset', 'buses_count_total'], \n",
    "                               aliases=['subset', 'total'], sticky=False).add_to(grid)\n",
    "    folium.features.GeoJsonTooltip(fields=['bus_id', 'name'], \n",
    "                                aliases=['id', 'bus']).add_to(routes)\n",
    "    folium.LayerControl().add_to(m)\n",
    "    return m\n",
    "\n",
    "grid = interact(get_map_from_grid, time_range=widgets.IntSlider(min=0, max=2, step=1, value=0))\n",
    "# m = get_map_from_grid(grid)\n",
    "# m"
   ]
  }
 ],
 "metadata": {
  "kernelspec": {
   "display_name": "Python 3",
   "language": "python",
   "name": "python3"
  },
  "language_info": {
   "codemirror_mode": {
    "name": "ipython",
    "version": 3
   },
   "file_extension": ".py",
   "mimetype": "text/x-python",
   "name": "python",
   "nbconvert_exporter": "python",
   "pygments_lexer": "ipython3",
   "version": "3.8.6-final"
  }
 },
 "nbformat": 4,
 "nbformat_minor": 4
}