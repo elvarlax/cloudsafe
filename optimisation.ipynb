{
 "cells": [
  {
   "cell_type": "code",
   "execution_count": 10,
   "metadata": {},
   "outputs": [
    {
     "ename": "KeyboardInterrupt",
     "evalue": "",
     "output_type": "error",
     "traceback": [
      "\u001b[0;31m---------------------------------------------------------------------------\u001b[0m",
      "\u001b[0;31mKeyboardInterrupt\u001b[0m                         Traceback (most recent call last)",
      "\u001b[0;32m<ipython-input-10-0469928ee800>\u001b[0m in \u001b[0;36m<module>\u001b[0;34m\u001b[0m\n\u001b[1;32m     62\u001b[0m \u001b[0mcomb\u001b[0m     \u001b[0;34m=\u001b[0m \u001b[0;34m[\u001b[0m\u001b[0;34m]\u001b[0m\u001b[0;34m\u001b[0m\u001b[0;34m\u001b[0m\u001b[0m\n\u001b[1;32m     63\u001b[0m \u001b[0;34m\u001b[0m\u001b[0m\n\u001b[0;32m---> 64\u001b[0;31m \u001b[0;32mfor\u001b[0m \u001b[0msubset\u001b[0m \u001b[0;32min\u001b[0m \u001b[0mitertools\u001b[0m\u001b[0;34m.\u001b[0m\u001b[0mcombinations\u001b[0m\u001b[0;34m(\u001b[0m\u001b[0mstuff\u001b[0m\u001b[0;34m,\u001b[0m \u001b[0;36m8\u001b[0m\u001b[0;34m)\u001b[0m\u001b[0;34m:\u001b[0m\u001b[0;34m\u001b[0m\u001b[0;34m\u001b[0m\u001b[0m\n\u001b[0m\u001b[1;32m     65\u001b[0m     \u001b[0;32mpass\u001b[0m\u001b[0;34m\u001b[0m\u001b[0;34m\u001b[0m\u001b[0m\n\u001b[1;32m     66\u001b[0m \u001b[0;34m\u001b[0m\u001b[0m\n",
      "\u001b[0;31mKeyboardInterrupt\u001b[0m: "
     ]
    }
   ],
   "source": [
    "import data_api as api\n",
    "import numpy as np\n",
    "import itertools\n",
    "\n",
    "# Initialisation\n",
    "#def init()\n",
    "\n",
    "# Anealing schedule\n",
    "#def schedule()\n",
    "\n",
    "# Candidate generator\n",
    "#def neighbour(s):\n",
    "#    s_new = []\n",
    "#    \n",
    "#    return s_new\n",
    "#\n",
    "# Acceptance probability function\n",
    "#def P():\n",
    "\n",
    "# Energy (Goal) function    \n",
    "#def E():\n",
    "    \n",
    "\n",
    "#api.get_bus_ids()\n",
    "\n",
    "all_bus_routes           = api.get_route_cells(api.get_bus_ids())\n",
    "domain_all_bus_routes    = list(all_bus_routes.values())\n",
    "range_all_bus_routes     = list(all_bus_routes.keys())\n",
    "total_grid_amount        = 100\n",
    "\n",
    "def get_max_coverage_single_bus():\n",
    "    bus_coverage         = 0\n",
    "    bus_id               = 0\n",
    "    bus_route            = []\n",
    "    \n",
    "    for route in domain_all_bus_routes:\n",
    "        if len(route)   >= max:\n",
    "            bus_id       = range_all_bus_routes[domain_all_bus_routes.index(route)]\n",
    "            bus_coverage = len(route)/total_grid_amount\n",
    "            bus_route    = route\n",
    "\n",
    "    return (bus_id, bus_coverage, bus_route)\n",
    "\n",
    "def get_bus_coverage(bus_id):\n",
    "    return len(all_bus_routes[bus_id])/total_grid_amount\n",
    "\n",
    "def get_bus_coverage_combined(bus_list):\n",
    "    cell_set = set()\n",
    "    \n",
    "    for bus_id in bus_list:\n",
    "        try:\n",
    "            bus_route = set(all_bus_routes[bus_id])\n",
    "        except:\n",
    "            bus_route = set()\n",
    "            \n",
    "        cell_set      = cell_set.union(bus_route)\n",
    "        \n",
    "    return len(cell_set)/total_grid_amount\n",
    "\n",
    "stuff    = api.get_bus_ids()\n",
    "coverage = 0\n",
    "comb     = []\n",
    "\n",
    "for subset in itertools.combinations(stuff, 5):\n",
    "    cur_coverage = get_bus_coverage_combined(list(subset))\n",
    "    if coverage  < cur_coverage:\n",
    "        coverage = cur_coverage\n",
    "        comb     = list(subset)\n",
    "\n",
    "print(\"Best combination: \", comb)\n",
    "print(\"Coverage: \", coverage)"
   ]
  },
  {
   "cell_type": "code",
   "execution_count": null,
   "metadata": {},
   "outputs": [],
   "source": []
  }
 ],
 "metadata": {
  "kernelspec": {
   "display_name": "Python 3",
   "language": "python",
   "name": "python3"
  },
  "language_info": {
   "codemirror_mode": {
    "name": "ipython",
    "version": 3
   },
   "file_extension": ".py",
   "mimetype": "text/x-python",
   "name": "python",
   "nbconvert_exporter": "python",
   "pygments_lexer": "ipython3",
   "version": "3.7.3"
  }
 },
 "nbformat": 4,
 "nbformat_minor": 4
}
